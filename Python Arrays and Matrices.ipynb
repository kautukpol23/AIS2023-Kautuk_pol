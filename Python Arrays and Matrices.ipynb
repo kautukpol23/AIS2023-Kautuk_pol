{
 "cells": [
  {
   "cell_type": "markdown",
   "id": "2c84e76e",
   "metadata": {},
   "source": [
    "# Array"
   ]
  },
  {
   "cell_type": "markdown",
   "id": "2909f513",
   "metadata": {},
   "source": [
    "# creating array "
   ]
  },
  {
   "cell_type": "code",
   "execution_count": 111,
   "id": "fa7213ab",
   "metadata": {},
   "outputs": [
    {
     "data": {
      "text/plain": [
       "array([0, 1, 2, 3, 4, 5, 6, 7, 8, 9])"
      ]
     },
     "execution_count": 111,
     "metadata": {},
     "output_type": "execute_result"
    }
   ],
   "source": [
    "import numpy as np\n",
    "arr1= np. arange(10)\n",
    "arr1"
   ]
  },
  {
   "cell_type": "code",
   "execution_count": 112,
   "id": "1b277993",
   "metadata": {},
   "outputs": [
    {
     "data": {
      "text/plain": [
       "array([1, 2, 3, 4, 5])"
      ]
     },
     "execution_count": 112,
     "metadata": {},
     "output_type": "execute_result"
    }
   ],
   "source": [
    "import numpy as np\n",
    "arr2= np.array([1, 2, 3, 4,5])\n",
    "arr2"
   ]
  },
  {
   "cell_type": "markdown",
   "id": "7a9a7e9b",
   "metadata": {},
   "source": [
    "# Indexing "
   ]
  },
  {
   "cell_type": "code",
   "execution_count": 113,
   "id": "265a9700",
   "metadata": {},
   "outputs": [
    {
     "name": "stdout",
     "output_type": "stream",
     "text": [
      "5\n",
      "5\n"
     ]
    }
   ],
   "source": [
    "print(arr1[5])\n",
    "print(arr1[-5])"
   ]
  },
  {
   "cell_type": "markdown",
   "id": "cc2b8eca",
   "metadata": {},
   "source": [
    "# Slicing in array"
   ]
  },
  {
   "cell_type": "code",
   "execution_count": 114,
   "id": "d5fce6fa",
   "metadata": {},
   "outputs": [
    {
     "data": {
      "text/plain": [
       "array([0, 1, 2, 3, 4, 5, 6, 7, 8, 9])"
      ]
     },
     "execution_count": 114,
     "metadata": {},
     "output_type": "execute_result"
    }
   ],
   "source": [
    "arr1[:]"
   ]
  },
  {
   "cell_type": "code",
   "execution_count": 115,
   "id": "8fbf6c56",
   "metadata": {},
   "outputs": [
    {
     "name": "stdout",
     "output_type": "stream",
     "text": [
      "[3 4 5 6 7 8 9]\n",
      "[3 4 5 6 7 8 9]\n"
     ]
    }
   ],
   "source": [
    "print(arr1[3:])\n",
    "print(arr1[-7:])"
   ]
  },
  {
   "cell_type": "code",
   "execution_count": 116,
   "id": "8917ac96",
   "metadata": {},
   "outputs": [
    {
     "name": "stdout",
     "output_type": "stream",
     "text": [
      "[0 1 2 3 4 5 6]\n",
      "[0 1 2 3 4 5 6]\n"
     ]
    }
   ],
   "source": [
    "print(arr1[:7])\n",
    "print(arr1[:-3])"
   ]
  },
  {
   "cell_type": "code",
   "execution_count": 117,
   "id": "ec63d85a",
   "metadata": {},
   "outputs": [
    {
     "name": "stdout",
     "output_type": "stream",
     "text": [
      "[3 4 5 6 7]\n",
      "[3 4 5 6 7]\n"
     ]
    }
   ],
   "source": [
    "print(arr1[3:8])\n",
    "print(arr1[-7:-2])"
   ]
  },
  {
   "cell_type": "code",
   "execution_count": 118,
   "id": "c08b5d41",
   "metadata": {},
   "outputs": [
    {
     "name": "stdout",
     "output_type": "stream",
     "text": [
      "[3 5 7]\n",
      "[3 5 7]\n"
     ]
    }
   ],
   "source": [
    "print(arr1[3:8:2])\n",
    "print(arr1[-7:-2:2])"
   ]
  },
  {
   "cell_type": "code",
   "execution_count": 119,
   "id": "d6ca2c9e",
   "metadata": {},
   "outputs": [
    {
     "name": "stdout",
     "output_type": "stream",
     "text": [
      "[9 7 5]\n",
      "[9 7 5]\n"
     ]
    }
   ],
   "source": [
    "print(arr1[9:4:-2])\n",
    "print(arr1[-1:-6:-2])"
   ]
  },
  {
   "cell_type": "markdown",
   "id": "1643c48d",
   "metadata": {},
   "source": [
    "# Broadcasting"
   ]
  },
  {
   "cell_type": "code",
   "execution_count": 120,
   "id": "c687cd27",
   "metadata": {},
   "outputs": [
    {
     "name": "stdout",
     "output_type": "stream",
     "text": [
      "arr1 : [0 1 2 3 4 5 6 7 8 9]\n",
      "arr2 : [4 5 6 7 8 9]\n"
     ]
    }
   ],
   "source": [
    "arr1= np. arange(10)\n",
    "print(\"arr1 :\",arr1)\n",
    "arr2=arr1[4:]\n",
    "print(\"arr2 :\",arr2)"
   ]
  },
  {
   "cell_type": "code",
   "execution_count": 121,
   "id": "e6384c31",
   "metadata": {},
   "outputs": [
    {
     "name": "stdout",
     "output_type": "stream",
     "text": [
      "arr1 : [0 1 2 3 4 5 6 7 8 9]\n",
      "arr3 : [ 5  6  7  8  9 10 11 12 13 14]\n",
      "arr4 : [-2 -1  0  1  2  3  4  5  6  7]\n",
      "arr5 : [ 0 10 20 30 40 50 60 70 80 90]\n",
      "arr6 : [0.  0.5 1.  1.5 2.  2.5 3.  3.5 4.  4.5]\n"
     ]
    }
   ],
   "source": [
    "print(\"arr1 :\",arr1)\n",
    "arr3=arr1+5\n",
    "arr4=arr1-2\n",
    "arr5=arr1*10\n",
    "arr6=arr1/2\n",
    "print(\"arr3 :\",arr3)\n",
    "print(\"arr4 :\",arr4)\n",
    "print(\"arr5 :\",arr5)\n",
    "print(\"arr6 :\",arr6)"
   ]
  },
  {
   "cell_type": "code",
   "execution_count": 122,
   "id": "1f9eef0f",
   "metadata": {},
   "outputs": [
    {
     "name": "stdout",
     "output_type": "stream",
     "text": [
      "arr2 : [4 5 6 7 8 9]\n",
      "arr2 : [23 23 23 23 23 23]\n"
     ]
    }
   ],
   "source": [
    "print(\"arr2 :\",arr2)\n",
    "arr2[:]=23\n",
    "print(\"arr2 :\",arr2)"
   ]
  },
  {
   "cell_type": "markdown",
   "id": "91097995",
   "metadata": {},
   "source": [
    "# Build in function for creating array"
   ]
  },
  {
   "cell_type": "markdown",
   "id": "88e82a3a",
   "metadata": {},
   "source": [
    "1. Diagonals"
   ]
  },
  {
   "cell_type": "code",
   "execution_count": 123,
   "id": "ae371ae9",
   "metadata": {},
   "outputs": [
    {
     "data": {
      "text/plain": [
       "array([[1, 0, 0],\n",
       "       [0, 1, 0],\n",
       "       [0, 0, 1]])"
      ]
     },
     "execution_count": 123,
     "metadata": {},
     "output_type": "execute_result"
    }
   ],
   "source": [
    "ar1=np.diag([1,1,1])\n",
    "ar1"
   ]
  },
  {
   "cell_type": "markdown",
   "id": "0aa22106",
   "metadata": {},
   "source": [
    "2. Zeros"
   ]
  },
  {
   "cell_type": "code",
   "execution_count": 124,
   "id": "83fbb7d1",
   "metadata": {},
   "outputs": [
    {
     "data": {
      "text/plain": [
       "array([[0., 0.],\n",
       "       [0., 0.],\n",
       "       [0., 0.]])"
      ]
     },
     "execution_count": 124,
     "metadata": {},
     "output_type": "execute_result"
    }
   ],
   "source": [
    "ar2=np.zeros((3,2))\n",
    "ar2"
   ]
  },
  {
   "cell_type": "markdown",
   "id": "d2b9553e",
   "metadata": {},
   "source": [
    "3. Ones"
   ]
  },
  {
   "cell_type": "code",
   "execution_count": 125,
   "id": "23e4a0b8",
   "metadata": {},
   "outputs": [
    {
     "data": {
      "text/plain": [
       "array([[1., 1.],\n",
       "       [1., 1.],\n",
       "       [1., 1.]])"
      ]
     },
     "execution_count": 125,
     "metadata": {},
     "output_type": "execute_result"
    }
   ],
   "source": [
    "ar3=np.ones((3,2))\n",
    "ar3"
   ]
  },
  {
   "cell_type": "code",
   "execution_count": null,
   "id": "4da6bcab",
   "metadata": {},
   "outputs": [],
   "source": []
  },
  {
   "cell_type": "markdown",
   "id": "f996b43b",
   "metadata": {},
   "source": [
    "# Matrix"
   ]
  },
  {
   "cell_type": "markdown",
   "id": "36e46444",
   "metadata": {},
   "source": [
    "# Creating matrix"
   ]
  },
  {
   "cell_type": "code",
   "execution_count": 126,
   "id": "b260af44",
   "metadata": {},
   "outputs": [
    {
     "data": {
      "text/plain": [
       "matrix([[1, 2],\n",
       "        [3, 4]])"
      ]
     },
     "execution_count": 126,
     "metadata": {},
     "output_type": "execute_result"
    }
   ],
   "source": [
    "#using numpy.matrix()\n",
    "a = np.matrix('1 2; 3 4')\n",
    "a"
   ]
  },
  {
   "cell_type": "code",
   "execution_count": 127,
   "id": "baa42729",
   "metadata": {},
   "outputs": [
    {
     "data": {
      "text/plain": [
       "array([[2, 3, 4, 5],\n",
       "       [3, 4, 5, 6],\n",
       "       [5, 6, 7, 8]])"
      ]
     },
     "execution_count": 127,
     "metadata": {},
     "output_type": "execute_result"
    }
   ],
   "source": [
    "#using numpy.array()\n",
    "mat1=np.array(([2,3,4,5],[3,4,5,6],[5,6,7,8]))\n",
    "mat1"
   ]
  },
  {
   "cell_type": "code",
   "execution_count": 128,
   "id": "4fb78a64",
   "metadata": {},
   "outputs": [
    {
     "data": {
      "text/plain": [
       "array([[ 1,  2,  3,  4],\n",
       "       [ 5,  6,  7,  8],\n",
       "       [ 9, 10, 11, 12],\n",
       "       [13, 14, 15, 16]])"
      ]
     },
     "execution_count": 128,
     "metadata": {},
     "output_type": "execute_result"
    }
   ],
   "source": [
    "#using numpy.reshape()\n",
    "m2 = np.array([[1,2,3,4,5,6,7,8,9,10,11,12,13,14,15,16]]).reshape(4,4)\n",
    "m2"
   ]
  },
  {
   "cell_type": "markdown",
   "id": "276b3532",
   "metadata": {},
   "source": [
    "# Indexing of Matrix"
   ]
  },
  {
   "cell_type": "code",
   "execution_count": 129,
   "id": "681b82c2",
   "metadata": {},
   "outputs": [
    {
     "name": "stdout",
     "output_type": "stream",
     "text": [
      "4\n",
      "6\n",
      "11\n"
     ]
    }
   ],
   "source": [
    "print(a[1,1])\n",
    "print(mat1[2,1])\n",
    "print(m2[-2,-2])"
   ]
  },
  {
   "cell_type": "markdown",
   "id": "bad0e594",
   "metadata": {},
   "source": [
    "# Slicing"
   ]
  },
  {
   "cell_type": "code",
   "execution_count": 130,
   "id": "0f93691e",
   "metadata": {},
   "outputs": [
    {
     "name": "stdout",
     "output_type": "stream",
     "text": [
      "[[2 3 4 5]\n",
      " [3 4 5 6]\n",
      " [5 6 7 8]]\n",
      "\n",
      "[4 5 6]\n"
     ]
    }
   ],
   "source": [
    "print(mat1,end=\"\\n\\n\")\n",
    "print(mat1[1,1:])"
   ]
  },
  {
   "cell_type": "code",
   "execution_count": 131,
   "id": "f8f19ef2",
   "metadata": {},
   "outputs": [
    {
     "data": {
      "text/plain": [
       "array([[4, 5, 6],\n",
       "       [6, 7, 8]])"
      ]
     },
     "execution_count": 131,
     "metadata": {},
     "output_type": "execute_result"
    }
   ],
   "source": [
    "mat1[1:,1:]"
   ]
  },
  {
   "cell_type": "code",
   "execution_count": 132,
   "id": "6b364e6b",
   "metadata": {},
   "outputs": [
    {
     "data": {
      "text/plain": [
       "array([[ 1,  2,  3],\n",
       "       [ 5,  6,  7],\n",
       "       [ 9, 10, 11]])"
      ]
     },
     "execution_count": 132,
     "metadata": {},
     "output_type": "execute_result"
    }
   ],
   "source": [
    "m2[:3,:3]"
   ]
  },
  {
   "cell_type": "markdown",
   "id": "81badc08",
   "metadata": {},
   "source": [
    "# Matrix Broadcasting"
   ]
  },
  {
   "cell_type": "code",
   "execution_count": 133,
   "id": "baa90cc3",
   "metadata": {},
   "outputs": [
    {
     "data": {
      "text/plain": [
       "matrix([[1, 2],\n",
       "        [3, 4],\n",
       "        [5, 6]])"
      ]
     },
     "execution_count": 133,
     "metadata": {},
     "output_type": "execute_result"
    }
   ],
   "source": [
    "m4 = np.matrix('1 2 3; 3 4 5; 5 6 7; 7 8 9')\n",
    "m5 = m4[:3,:2]\n",
    "m5"
   ]
  },
  {
   "cell_type": "code",
   "execution_count": 134,
   "id": "40808fb8",
   "metadata": {},
   "outputs": [
    {
     "name": "stdout",
     "output_type": "stream",
     "text": [
      "m4 :\n",
      " [[1 2 3]\n",
      " [3 4 5]\n",
      " [5 6 7]\n",
      " [7 8 9]]\n",
      "m6 :\n",
      " [[ 6  7  8]\n",
      " [ 8  9 10]\n",
      " [10 11 12]\n",
      " [12 13 14]]\n",
      "m7 :\n",
      " [[-1  0  1]\n",
      " [ 1  2  3]\n",
      " [ 3  4  5]\n",
      " [ 5  6  7]]\n",
      "m8 :\n",
      " [[10 20 30]\n",
      " [30 40 50]\n",
      " [50 60 70]\n",
      " [70 80 90]]\n",
      "m9 :\n",
      " [[0.5 1.  1.5]\n",
      " [1.5 2.  2.5]\n",
      " [2.5 3.  3.5]\n",
      " [3.5 4.  4.5]]\n"
     ]
    }
   ],
   "source": [
    "print(\"m4 :\\n\",m4)\n",
    "m6=m4+5\n",
    "m7=m4-2\n",
    "m8=m4*10\n",
    "m9=m4/2\n",
    "print(\"m6 :\\n\",m6)\n",
    "print(\"m7 :\\n\",m7)\n",
    "print(\"m8 :\\n\",m8)\n",
    "print(\"m9 :\\n\",m9)"
   ]
  },
  {
   "cell_type": "code",
   "execution_count": 135,
   "id": "e2cdf6ea",
   "metadata": {},
   "outputs": [
    {
     "name": "stdout",
     "output_type": "stream",
     "text": [
      "m4 :\n",
      " [[1 2 3]\n",
      " [3 4 5]\n",
      " [5 6 7]\n",
      " [7 8 9]]\n",
      "m4 :\n",
      " [[23 23 23]\n",
      " [23 23 23]\n",
      " [23 23 23]\n",
      " [23 23 23]]\n"
     ]
    }
   ],
   "source": [
    "print(\"m4 :\\n\",m4)\n",
    "m4[:]=23\n",
    "print(\"m4 :\\n\",m4)"
   ]
  },
  {
   "cell_type": "code",
   "execution_count": null,
   "id": "b56445b4",
   "metadata": {},
   "outputs": [],
   "source": []
  },
  {
   "cell_type": "code",
   "execution_count": null,
   "id": "1bbc9b7c",
   "metadata": {},
   "outputs": [],
   "source": []
  },
  {
   "cell_type": "code",
   "execution_count": null,
   "id": "cc1ee8a7",
   "metadata": {},
   "outputs": [],
   "source": []
  },
  {
   "cell_type": "code",
   "execution_count": null,
   "id": "56f6259c",
   "metadata": {},
   "outputs": [],
   "source": []
  },
  {
   "cell_type": "code",
   "execution_count": null,
   "id": "c354c9b8",
   "metadata": {},
   "outputs": [],
   "source": []
  },
  {
   "cell_type": "code",
   "execution_count": null,
   "id": "cf29097f",
   "metadata": {},
   "outputs": [],
   "source": []
  },
  {
   "cell_type": "code",
   "execution_count": null,
   "id": "d446b8ed",
   "metadata": {},
   "outputs": [],
   "source": []
  },
  {
   "cell_type": "markdown",
   "id": "8667d247",
   "metadata": {},
   "source": [
    "# Built in method\n"
   ]
  },
  {
   "cell_type": "markdown",
   "id": "cc551fd0",
   "metadata": {},
   "source": [
    "1. SQRT"
   ]
  },
  {
   "cell_type": "code",
   "execution_count": 136,
   "id": "e35b5dad",
   "metadata": {},
   "outputs": [
    {
     "data": {
      "text/plain": [
       "0.0"
      ]
     },
     "execution_count": 136,
     "metadata": {},
     "output_type": "execute_result"
    }
   ],
   "source": [
    "import math\n",
    "math.sqrt(0)"
   ]
  },
  {
   "cell_type": "code",
   "execution_count": 137,
   "id": "fdb898e6",
   "metadata": {},
   "outputs": [
    {
     "data": {
      "text/plain": [
       "3.0"
      ]
     },
     "execution_count": 137,
     "metadata": {},
     "output_type": "execute_result"
    }
   ],
   "source": [
    "math.sqrt(9)"
   ]
  },
  {
   "cell_type": "code",
   "execution_count": 138,
   "id": "e019e402",
   "metadata": {},
   "outputs": [
    {
     "data": {
      "text/plain": [
       "5.039841267341661"
      ]
     },
     "execution_count": 138,
     "metadata": {},
     "output_type": "execute_result"
    }
   ],
   "source": [
    "math.sqrt(25.4)"
   ]
  },
  {
   "cell_type": "markdown",
   "id": "9eb59e06",
   "metadata": {},
   "source": [
    "2. LOG"
   ]
  },
  {
   "cell_type": "code",
   "execution_count": 139,
   "id": "556f36c0",
   "metadata": {},
   "outputs": [
    {
     "data": {
      "text/plain": [
       "2.302585092994046"
      ]
     },
     "execution_count": 139,
     "metadata": {},
     "output_type": "execute_result"
    }
   ],
   "source": [
    "import math\n",
    "math.log(10)"
   ]
  },
  {
   "cell_type": "code",
   "execution_count": 140,
   "id": "556ffe3f",
   "metadata": {},
   "outputs": [
    {
     "data": {
      "text/plain": [
       "1.1073093649624544"
      ]
     },
     "execution_count": 140,
     "metadata": {},
     "output_type": "execute_result"
    }
   ],
   "source": [
    "math.log(10,8)"
   ]
  },
  {
   "cell_type": "code",
   "execution_count": 141,
   "id": "0155ac94",
   "metadata": {},
   "outputs": [
    {
     "data": {
      "text/plain": [
       "3.321928094887362"
      ]
     },
     "execution_count": 141,
     "metadata": {},
     "output_type": "execute_result"
    }
   ],
   "source": [
    "math.log2(10)"
   ]
  },
  {
   "cell_type": "code",
   "execution_count": 142,
   "id": "cf6c8339",
   "metadata": {},
   "outputs": [
    {
     "data": {
      "text/plain": [
       "1.0"
      ]
     },
     "execution_count": 142,
     "metadata": {},
     "output_type": "execute_result"
    }
   ],
   "source": [
    "math.log10(10)"
   ]
  },
  {
   "cell_type": "markdown",
   "id": "7136fdca",
   "metadata": {},
   "source": [
    "3. EXP"
   ]
  },
  {
   "cell_type": "code",
   "execution_count": 143,
   "id": "8806310b",
   "metadata": {},
   "outputs": [
    {
     "data": {
      "text/plain": [
       "7.38905609893065"
      ]
     },
     "execution_count": 143,
     "metadata": {},
     "output_type": "execute_result"
    }
   ],
   "source": [
    "#e= 2.71828, fun is like e^x eg. e^2 written as\n",
    "math.exp(2)"
   ]
  },
  {
   "cell_type": "code",
   "execution_count": 144,
   "id": "d14ee655",
   "metadata": {},
   "outputs": [
    {
     "data": {
      "text/plain": [
       "7.3890461584"
      ]
     },
     "execution_count": 144,
     "metadata": {},
     "output_type": "execute_result"
    }
   ],
   "source": [
    "2.71828*2.71828"
   ]
  },
  {
   "cell_type": "code",
   "execution_count": 145,
   "id": "19e5a371",
   "metadata": {},
   "outputs": [
    {
     "data": {
      "text/plain": [
       "0.049787068367863944"
      ]
     },
     "execution_count": 145,
     "metadata": {},
     "output_type": "execute_result"
    }
   ],
   "source": [
    "math.exp(-3)"
   ]
  },
  {
   "cell_type": "code",
   "execution_count": 146,
   "id": "f7209510",
   "metadata": {},
   "outputs": [
    {
     "data": {
      "text/plain": [
       "9.974182454814718"
      ]
     },
     "execution_count": 146,
     "metadata": {},
     "output_type": "execute_result"
    }
   ],
   "source": [
    "math.exp(2.3)"
   ]
  },
  {
   "cell_type": "markdown",
   "id": "060f3a73",
   "metadata": {},
   "source": [
    "# Linear Algebra Operations"
   ]
  },
  {
   "cell_type": "markdown",
   "id": "193d4f3f",
   "metadata": {},
   "source": [
    "1. Addition"
   ]
  },
  {
   "cell_type": "code",
   "execution_count": 147,
   "id": "47a85928",
   "metadata": {},
   "outputs": [
    {
     "data": {
      "text/plain": [
       "array([[ 8, 10, 12],\n",
       "       [ 5,  7,  9]])"
      ]
     },
     "execution_count": 147,
     "metadata": {},
     "output_type": "execute_result"
    }
   ],
   "source": [
    "import numpy as np\n",
    "a = np.array([ [1, 2, 3], [4, 5, 6] ])\n",
    "b = np.array([ [7, 8, 9], [1, 2, 3] ])\n",
    "c = a + b\n",
    "c"
   ]
  },
  {
   "cell_type": "markdown",
   "id": "0af4b4a6",
   "metadata": {},
   "source": [
    "2. Subtraction"
   ]
  },
  {
   "cell_type": "code",
   "execution_count": 152,
   "id": "7cb07256",
   "metadata": {},
   "outputs": [
    {
     "data": {
      "text/plain": [
       "array([[6, 6, 6],\n",
       "       [6, 7, 7]])"
      ]
     },
     "execution_count": 152,
     "metadata": {},
     "output_type": "execute_result"
    }
   ],
   "source": [
    "import numpy as np\n",
    "a = np.array([ [1, 2, 3], [4, 5, 6] ])\n",
    "b = np.array([ [7, 8, 9], [10, 12, 13] ])\n",
    "c = b - a\n",
    "c"
   ]
  },
  {
   "cell_type": "markdown",
   "id": "a4384f66",
   "metadata": {},
   "source": [
    "3. Multiplication"
   ]
  },
  {
   "cell_type": "code",
   "execution_count": 153,
   "id": "0c76139c",
   "metadata": {},
   "outputs": [
    {
     "name": "stdout",
     "output_type": "stream",
     "text": [
      "c: [[ 27  32  35]\n",
      " [ 61  72  79]\n",
      " [ 95 112 123]]\n",
      "\n",
      "d: [[ 76 100]\n",
      " [111 146]]\n",
      "c shape is : (3, 3)\n",
      "d shape is : (2, 2)\n"
     ]
    }
   ],
   "source": [
    "import numpy as np\n",
    "a = np.array([ [1, 2], [3, 4], [5, 6] ])\n",
    "b = np.array([ [7, 8, 9], [10, 12, 13] ])\n",
    "c = np.dot(a, b)\n",
    "d = np.dot(b,a)\n",
    "print(\"c:\",c,end=(\"\\n\\n\"))\n",
    "print(\"d:\",d)\n",
    "print(\"c shape is :\", c.shape)\n",
    "print(\"d shape is :\", d.shape)\n"
   ]
  },
  {
   "cell_type": "markdown",
   "id": "a5b09105",
   "metadata": {},
   "source": [
    "4. Transpose"
   ]
  },
  {
   "cell_type": "code",
   "execution_count": 154,
   "id": "baf653e1",
   "metadata": {},
   "outputs": [
    {
     "name": "stdout",
     "output_type": "stream",
     "text": [
      "Using T operator [[1 3 5]\n",
      " [2 4 6]]\n",
      "\n",
      "Using lib method [[1 3 5]\n",
      " [2 4 6]]\n",
      "Shape of a is: (3, 2)\n",
      "Shape of its transpose is: (2, 3)\n"
     ]
    }
   ],
   "source": [
    "import numpy as np\n",
    "a = np.array([ [1, 2], [3, 4], [5, 6] ])\n",
    "print(\"Using T operator\",a.T,end=\"\\n\\n\")\n",
    "print(\"Using lib method\",np.transpose(a))\n",
    "print(\"Shape of a is:\",a.shape)\n",
    "print(\"Shape of its transpose is:\",a.T.shape)"
   ]
  },
  {
   "cell_type": "markdown",
   "id": "b2a7141b",
   "metadata": {},
   "source": [
    "5. Inverse"
   ]
  },
  {
   "cell_type": "code",
   "execution_count": 155,
   "id": "2c2a3cf2",
   "metadata": {},
   "outputs": [
    {
     "name": "stdout",
     "output_type": "stream",
     "text": [
      "a is:\n",
      " [[1 2 7]\n",
      " [3 4 8]\n",
      " [5 6 9]]\n",
      "a inverse is:\n",
      " [[-1.31172805e+15  2.62345609e+15 -1.31172805e+15]\n",
      " [ 1.42103872e+15 -2.84207743e+15  1.42103872e+15]\n",
      " [-2.18621341e+14  4.37242682e+14 -2.18621341e+14]]\n"
     ]
    }
   ],
   "source": [
    "#can be applied only on square matrix\n",
    "import numpy as np\n",
    "a = np.array([ [1, 2,7], [3, 4,8], [5, 6,9] ])\n",
    "ainverse= np.linalg.inv(a)\n",
    "print(\"a is:\\n\",a)\n",
    "print(\"a inverse is:\\n\",ainverse)"
   ]
  },
  {
   "cell_type": "markdown",
   "id": "c7f4cafc",
   "metadata": {},
   "source": [
    "# Array arithmetic calculations"
   ]
  },
  {
   "cell_type": "code",
   "execution_count": 159,
   "id": "47c8489e",
   "metadata": {},
   "outputs": [
    {
     "name": "stdout",
     "output_type": "stream",
     "text": [
      "array 1 : [10 20 30 40 50]\n",
      "array 2 : [ 5 25  4 15  4]\n",
      "**The Array Items After Perfroming Arithmetic Operations ***\n",
      "Array Addition =  [15 45 34 55 54]\n",
      "Array Subtraction =  [ 5 -5 26 25 46]\n",
      "Array Multiplication =   [ 50 500 120 600 200]\n",
      "Array Modulus =  [ 0 20  2 10  2]\n",
      "Array Remainder =  [ 0 20  2 10  2]\n",
      "Array division =  [ 2.          0.8         7.5         2.66666667 12.5       ]\n"
     ]
    }
   ],
   "source": [
    "import numpy as np\n",
    "\n",
    "arr1 = np.array([10, 20, 30, 40, 50])\n",
    "arr2 = np.array([5, 25, 4, 15, 4])\n",
    "\n",
    "addarr = np.add(arr1, arr2)\n",
    "subarr = np.subtract(arr1, arr2)\n",
    "multarr = np.multiply(arr1, arr2)\n",
    "modarr = np.mod(arr1, arr2)\n",
    "remainderarr = np.remainder(arr1, arr2)\n",
    "divarr = np.divide(arr1, arr2)\n",
    "\n",
    "print(\"array 1 :\", arr1)\n",
    "print(\"array 2 :\", arr2)\n",
    "print(\"**The Array Items After Perfroming Arithmetic Operations ***\")\n",
    "print(\"Array Addition = \", addarr)\n",
    "print(\"Array Subtraction = \", subarr)\n",
    "print(\"Array Multiplication =  \", multarr)\n",
    "print(\"Array Modulus = \", modarr)\n",
    "print(\"Array Remainder = \", remainderarr)\n",
    "print(\"Array division = \", divarr)"
   ]
  },
  {
   "cell_type": "code",
   "execution_count": null,
   "id": "8cfd57aa",
   "metadata": {},
   "outputs": [],
   "source": []
  },
  {
   "cell_type": "code",
   "execution_count": null,
   "id": "656d4bc8",
   "metadata": {},
   "outputs": [],
   "source": []
  },
  {
   "cell_type": "code",
   "execution_count": null,
   "id": "923d1ddc",
   "metadata": {},
   "outputs": [],
   "source": []
  },
  {
   "cell_type": "code",
   "execution_count": null,
   "id": "3b92df27",
   "metadata": {},
   "outputs": [],
   "source": []
  },
  {
   "cell_type": "code",
   "execution_count": null,
   "id": "5c3be4df",
   "metadata": {},
   "outputs": [],
   "source": []
  },
  {
   "cell_type": "code",
   "execution_count": null,
   "id": "a0e334fb",
   "metadata": {},
   "outputs": [],
   "source": []
  },
  {
   "cell_type": "code",
   "execution_count": null,
   "id": "ca47b35f",
   "metadata": {},
   "outputs": [],
   "source": []
  },
  {
   "cell_type": "code",
   "execution_count": null,
   "id": "c218f159",
   "metadata": {},
   "outputs": [],
   "source": []
  }
 ],
 "metadata": {
  "kernelspec": {
   "display_name": "Python 3 (ipykernel)",
   "language": "python",
   "name": "python3"
  },
  "language_info": {
   "codemirror_mode": {
    "name": "ipython",
    "version": 3
   },
   "file_extension": ".py",
   "mimetype": "text/x-python",
   "name": "python",
   "nbconvert_exporter": "python",
   "pygments_lexer": "ipython3",
   "version": "3.9.13"
  }
 },
 "nbformat": 4,
 "nbformat_minor": 5
}
